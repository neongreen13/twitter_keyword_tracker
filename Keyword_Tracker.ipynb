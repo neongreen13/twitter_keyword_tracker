{
 "cells": [
  {
   "cell_type": "markdown",
   "metadata": {},
   "source": [
    "## Twitter Keyword Tracker"
   ]
  },
  {
   "cell_type": "code",
   "execution_count": null,
   "metadata": {},
   "outputs": [],
   "source": [
    "import tweepy\n",
    "from tweepy import OAuthHandler\n",
    "import json\n",
    "import pandas as pd\n",
    " \n",
    "consumer_key = 'XXXXXXXXXXXXXXXXXXXXXXXX'\n",
    "consumer_secret = 'XXXXXXXXXXXXXXXXXXXXXXXX'\n",
    "access_token = '3252682123-XXXXXXXXXXXXXXXXXXXXXXXXXXXXXXXXXXXXXX'\n",
    "access_secret = 'XXXXXXXXXXXXXXXXXXXXXXXXXXXXXXXXXXXX'\n",
    " \n",
    "auth = OAuthHandler(consumer_key, consumer_secret)\n",
    "auth.set_access_token(access_token, access_secret)\n",
    "api = tweepy.API(auth, wait_on_rate_limit=True)\n",
    " \n",
    "message,favorite_count,retweet_count,created_at,user_name,favourites_count,description,friends_count,followers_count=[],[],[],[],[],[],[],[],[]\n",
    "for status in tweepy.Cursor(api.home_timeline).items(100):\n",
    "    message.append(status.text)\n",
    "    favorite_count.append(status.favorite_count)\n",
    "    retweet_count.append(status.retweet_count)\n",
    "    created_at.append(status.created_at)\n",
    "    user_name.append(status.user.name)\n",
    "    favourites_count.append(status.user.favourites_count)\n",
    "    description.append(status.user.description)\n",
    "    friends_count.append(status.user.friends_count)\n",
    "    followers_count.append(status.user.followers_count)\n",
    "    \n",
    "    \n",
    "df=pd.DataFrame({'Message':message,\n",
    "                'Tweet Favorite Count':favorite_count,\n",
    "                'Retweet Count':retweet_count,\n",
    "                'Created At':created_at,\n",
    "                'Username':user_name,\n",
    "                'Likes':favourites_count,\n",
    "                'User Description':description,\n",
    "                'Following':friends_count,\n",
    "                'Followers':followers_count})\n",
    "df.to_csv(\"Twitter Timeline.csv\")\n",
    "print(df)"
   ]
  }
 ],
 "metadata": {
  "kernelspec": {
   "display_name": "Python (myENV)",
   "language": "python",
   "name": "myenv"
  },
  "language_info": {
   "codemirror_mode": {
    "name": "ipython",
    "version": 3
   },
   "file_extension": ".py",
   "mimetype": "text/x-python",
   "name": "python",
   "nbconvert_exporter": "python",
   "pygments_lexer": "ipython3",
   "version": "3.5.2"
  }
 },
 "nbformat": 4,
 "nbformat_minor": 2
}
